{
  "nbformat": 4,
  "nbformat_minor": 0,
  "metadata": {
    "colab": {
      "name": "Lecture2.ipynb",
      "provenance": [],
      "authorship_tag": "ABX9TyNXq4RL8It2OrrjBr6omFXX",
      "include_colab_link": true
    },
    "kernelspec": {
      "name": "python3",
      "display_name": "Python 3"
    },
    "language_info": {
      "name": "python"
    }
  },
  "cells": [
    {
      "cell_type": "markdown",
      "metadata": {
        "id": "view-in-github",
        "colab_type": "text"
      },
      "source": [
        "<a href=\"https://colab.research.google.com/github/Bae-hong-seob/MIT-Deep-Learning-6.S191-practice/blob/main/Lecture2.ipynb\" target=\"_parent\"><img src=\"https://colab.research.google.com/assets/colab-badge.svg\" alt=\"Open In Colab\"/></a>"
      ]
    },
    {
      "cell_type": "code",
      "execution_count": null,
      "metadata": {
        "id": "sqVn5aVOu1re"
      },
      "outputs": [],
      "source": [
        ""
      ]
    },
    {
      "cell_type": "markdown",
      "source": [
        "1. Sequence model\n",
        ">>> 연속적인 입력값으로부터 연속적인 출력값을 생성하는 모델 예를 들면 챗봇\n",
        ">>> Sequence Data(연속적인 데이터(=입력값)) : sound(Speech, Music etc..)\n",
        "\n",
        "2. RNN (Recurrent Neural Network)\n",
        ">>> Recurrnet : 재귀, 반복\n",
        ">>> RNN은 Sequence model이다. 이 중 weight(?) 계산때 재귀 방법을 사용하여서 RNN이라고 부를 뿐\n",
        ">>> 연속적인 입력값(x1,x2,x3 ... xn) 으로부터 연속적인 출력값(y1,y2,y3 ... yn)을 생성할때 이전 입력값에 대한 weight가 다음 입력값에 대한 출력값을 생성할때 영향을 끼친다.\n",
        "\n",
        "![image.png](data:image/png;base64,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)"
      ],
      "metadata": {
        "id": "CVb8TLG2u4HX"
      }
    },
    {
      "cell_type": "markdown",
      "source": [
        "#RNN 동작구조 \n",
        "h(t) = f(xt, h(t-1))\n",
        "\n",
        "h(t) : Cell state  \n",
        "h(t-1) : old state  \n",
        "xt : input  \n",
        "f : Activation function  "
      ],
      "metadata": {
        "id": "7MhJVdwMadnz"
      }
    },
    {
      "cell_type": "markdown",
      "source": [
        "![image.png](data:image/png;base64,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)"
      ],
      "metadata": {
        "id": "_pe_QKZXzogq"
      }
    },
    {
      "cell_type": "markdown",
      "source": [
        "또한 단어 시퀀스에 대해서 하나의 출력을 하는 다 대 일(many-to-one) 구조의 모델은 입력 문서가 긍정적인지 부정적인지를 판별하는 감성 분류(sentiment classification), 또는 메일이 정상 메일인지 스팸 메일인지 판별하는 스팸 메일 분류(spam detection) 등에 사용할 수 있습니다. 위 그림은 RNN으로 스팸 메일을 분류할 때의 아키텍처를 보여줍니다. 이러한 예제들은 'RNN을 이용한 텍스트 분류' 챕터에서 배웁니다."
      ],
      "metadata": {
        "id": "inihjsTEzpjU"
      }
    },
    {
      "cell_type": "markdown",
      "source": [
        "3. 활성화 함수 (Activation)\n",
        ">>> 노드에 입력된 값들을 어떠한 함수에 통과시킨 후 다음 레이어로 전달하는데 이 때 사용하는 함수를 활성화 함수라고 한다. 보통 비선형함수를 사용함.\n",
        "\n",
        "종류 1)sigmoid 2)Tanh 3)ReLU 등등\n",
        "\n",
        ">>> 1)sigmoid : 실무에서는 사용 X. 입문단계에서 사용  \n",
        ">>> 2)Tanh : sigmoid의 한계점을 해결. 하지만 아직 미분 값이 소실되는 Gradient Problem 존재  \n",
        ">>> 3)ReLU(경사함수) : Tanh가 가지는 Gradient Vanishing 문제 해결. 제일 많이 사용하는 함수  \n"
      ],
      "metadata": {
        "id": "vU_cABxXB4BL"
      }
    },
    {
      "cell_type": "markdown",
      "source": [
        "4. Loss function\n",
        "> 각 xt(x1,x2,x3 ...) input에서 yt(y1,y2,y3 ...) output을 생성할때 loss 발생  \n",
        "> 이러한 loss의 합을 Loss function이라고 하고, 이 값이 최소가 되게끔 모델을 구성해야한다."
      ],
      "metadata": {
        "id": "kuiQz81hU9UK"
      }
    },
    {
      "cell_type": "markdown",
      "source": [
        "#Sequence model 을 구현하기 위해 필요한 조건\n",
        "\n",
        "1. Handle variable-length sequence\n",
        "> input 값의 length가 같지 않음  \n",
        "> ex) input1 : \"hello world\".  \n",
        "> ex) input2 : \"I love my dog\". \n",
        "2. Track long-term dependencies (장기의존성)\n",
        "> 장기의존성이란, sequence model 에서 각 yt에 대한 f(h) weight 가 다음 input의 f(h+1)에 영향을 주게 되는데, 이때 x1에 대한 weight가 xn에 대한 weight에 끼치는 영향은 지수적으로 감소한다.  \n",
        ">> 왜? 1보다 작은 weight를 매 time step마다 곱해주게 되면 지수적으로 update 되는 weight값이 감소하기 때문에!  \n",
        ">> 따라서 weight가 감소 -> Gradient vanishing 발생  \n",
        ">> 이에 대한 solution으로 LSTM, GRU 등장  \n",
        "3. Maintain information about order\n",
        ">\n",
        "4. Share parameters across the sequence"
      ],
      "metadata": {
        "id": "rnhIC2yoVbh_"
      }
    },
    {
      "cell_type": "markdown",
      "source": [
        "ppt 41페이지 이후"
      ],
      "metadata": {
        "id": "nJNv6DM5ajU5"
      }
    }
  ]
}